{
 "cells": [
  {
   "cell_type": "markdown",
   "id": "bc7db121",
   "metadata": {},
   "source": [
    "# <font size = \"10\"> Olympic Swimming History 1912 - 2020</font>"
   ]
  },
  {
   "cell_type": "markdown",
   "id": "0a4c0d5e",
   "metadata": {},
   "source": [
    "<a href=\"Intro.ipynb\" target=\"_self\">Introduction</a>&nbsp; &nbsp; &nbsp;<a href=\"Vis.ipynb\" target=\"_self\">Visualizations</a>&nbsp; &nbsp; &nbsp;<a href=\"End.ipynb\" target=\"_self\">Conclusion</a>"
   ]
  },
  {
   "cell_type": "markdown",
   "id": "fc4488da",
   "metadata": {},
   "source": [
    "<div>\n",
    "<center><img src=\"swimmers.jpg\"/></center> \n",
    "</div>"
   ]
  },
  {
   "cell_type": "markdown",
   "id": "af8cf235",
   "metadata": {},
   "source": [
    "# Solution"
   ]
  },
  {
   "cell_type": "markdown",
   "id": "7b5aff2d",
   "metadata": {},
   "source": [
    "Throughout Canada's sports history, our woman have remarkably done better than our men at the world stage (especially in summer sports). Thats not to say our men aren't improving, but the gap between Canadian males swimmers and the top elite are larger then with the womens side. Canada should consider investing more in the Canadian swim team and giving them more resources as there efficiency for medal winning is higher. As for the men they should let them continue as is as shortern the gap over time before greatly investing in them when there in range to be the best, as a swim program isn't built over night. "
   ]
  },
  {
   "cell_type": "markdown",
   "id": "d6faea94",
   "metadata": {},
   "source": [
    "# Conclusion "
   ]
  },
  {
   "cell_type": "markdown",
   "id": "79004de6",
   "metadata": {},
   "source": [
    "Evidently as seen with the USA being the sole outlier, the quantity of swimmers doesn't translate to quality. So Canada should be mindful not to play a numbers game but focus on cultivating the top talents in our program. Although that may be cruel to many aspiring olympians, but that is the reality of the industry, as Canadians we should be there to win and not just make up numbers."
   ]
  },
  {
   "cell_type": "code",
   "execution_count": null,
   "id": "f1e937b8",
   "metadata": {},
   "outputs": [],
   "source": []
  }
 ],
 "metadata": {
  "kernelspec": {
   "display_name": "Python 3 (ipykernel)",
   "language": "python",
   "name": "python3"
  },
  "language_info": {
   "codemirror_mode": {
    "name": "ipython",
    "version": 3
   },
   "file_extension": ".py",
   "mimetype": "text/x-python",
   "name": "python",
   "nbconvert_exporter": "python",
   "pygments_lexer": "ipython3",
   "version": "3.10.9"
  }
 },
 "nbformat": 4,
 "nbformat_minor": 5
}
